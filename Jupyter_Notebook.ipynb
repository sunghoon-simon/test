{
 "cells": [
  {
   "cell_type": "markdown",
   "metadata": {},
   "source": [
    "<center>\n",
    "    <img src=\"https://cf-courses-data.s3.us.cloud-object-storage.appdomain.cloud/IBMDeveloperSkillsNetwork-DS0105EN-SkillsNetwork/labs/Module2/images/SN_web_lightmode.png\" width=\"300\" alt=\"cognitiveclass.ai logo\">\n",
    "</center>\n"
   ]
  },
  {
   "cell_type": "markdown",
   "metadata": {},
   "source": [
    "# Hands-on Lab: Create your Jupyter Notebook\n"
   ]
  },
  {
   "cell_type": "markdown",
   "metadata": {},
   "source": [
    "#### Add your code below following the instructions given in the course\n"
   ]
  },
  {
   "cell_type": "markdown",
   "metadata": {},
   "source": [
    "Jupyter_Notebook"
   ]
  },
  {
   "cell_type": "markdown",
   "metadata": {},
   "source": [
    "Introduction\n",
    "- Exercise 4 - Create a markdown cell to list data science languages. (3 pts)\n",
    "- Exercise 5 - Create a markdown cell to list data science libraries. (3 pts)\n",
    "- Exercise 6 - Create a markdown cell with a table of Data Science tools. (3 pts)\n",
    "- Exercise 7 - Create a markdown cell introducing arithmetic expression examples. (1 pt)\n",
    "- Exercise 8 - Create a code cell to multiply and add numbers. (2 pts)\n",
    "- Exercise 9 - Create a code cell to convert minutes to hours. (2 pts)\n",
    "- Exercise 10 -Insert a markdown cell to list Objectives. (3 pts)\n",
    "- Exercise 11 - Create a markdown cell to indicate the Author’s name. (2 pts)\n",
    "- Exercise 12 - Share your notebook through GitHub (3 pts)\n",
    "- Exercise 13 - Take a screenshot of the first page of the notebook. (1 pt)"
   ]
  },
  {
   "cell_type": "markdown",
   "metadata": {},
   "source": [
    "- Exercise 4\n",
    ": Python, R, SQL, JS"
   ]
  },
  {
   "cell_type": "markdown",
   "metadata": {},
   "source": [
    "- Exercise 5\n",
    ": Pandas, Numpy, Matplot, TensorFlow, Scikit-learn, Keras"
   ]
  },
  {
   "cell_type": "markdown",
   "metadata": {},
   "source": [
    "- Exercise 6\n",
    "|Data Science Tools|\n",
    "|------------------|\n",
    "|Jupyter Notebook|\n",
    "|Rstudio|\n",
    "|Apache Airflow|"
   ]
  },
  {
   "cell_type": "markdown",
   "metadata": {},
   "source": [
    "- Exercise 7\n",
    "    + Addition (+): Adds two\n",
    "    + Subtraction (-): Subtracts one number from another.\n",
    "    + Multiplication (*): Multiplies two numbers.\n",
    "    + Division (/): Divides one number by another.\n",
    "    + Exponentiation (**)**: Raises one number to the power of another.\n",
    "    + Modulus (%): Finds the remainder of division of one number by another."
   ]
  },
  {
   "cell_type": "code",
   "execution_count": 1,
   "metadata": {},
   "outputs": [
    {
     "name": "stdout",
     "output_type": "stream",
     "text": [
      "8\n",
      "6\n"
     ]
    }
   ],
   "source": [
    "# Exercise 8\n",
    "## Multiply and Add\n",
    "print (2 * 4)\n",
    "print (2 + 4)"
   ]
  },
  {
   "cell_type": "code",
   "execution_count": 2,
   "metadata": {},
   "outputs": [
    {
     "name": "stdout",
     "output_type": "stream",
     "text": [
      "60 minutes is equal to 1.0 hour(s)\n"
     ]
    }
   ],
   "source": [
    "# Exercise 9\n",
    "## Function to convert min to hour\n",
    "def min_convert(minutes):\n",
    "    hours = minutes/60\n",
    "    return hours\n",
    "\n",
    "## Test\n",
    "minutes = 60\n",
    "hours = min_convert(minutes)\n",
    "print(f\"{minutes} minutes is equal to {hours} hour(s)\")"
   ]
  },
  {
   "cell_type": "markdown",
   "metadata": {},
   "source": [
    "- Exercise 10\n",
    "    - Create a Jupyter Notebook with markdown and code cells\n",
    "    - List examples of languages, libraries and tools used in Data Science\n",
    "    - Share your Jupyter Notebook publicly on GitHub\n",
    "    - Evaluate notebooks submitted by your peers using the provided rubric\n",
    "    - Demonstrate proficiency in Data Science toolkit knowledge"
   ]
  },
  {
   "cell_type": "markdown",
   "metadata": {},
   "source": [
    "- Exercise 11\n",
    "    - Sunghoon Lee"
   ]
  },
  {
   "cell_type": "markdown",
   "metadata": {},
   "source": [
    "Copyright ©2024 IBM Corporation. All rights reserved.\n"
   ]
  }
 ],
 "metadata": {
  "kernelspec": {
   "display_name": "Python 3 (ipykernel)",
   "language": "python",
   "name": "python3"
  },
  "language_info": {
   "codemirror_mode": {
    "name": "ipython",
    "version": 3
   },
   "file_extension": ".py",
   "mimetype": "text/x-python",
   "name": "python",
   "nbconvert_exporter": "python",
   "pygments_lexer": "ipython3",
   "version": "3.9.12"
  },
  "prev_pub_hash": "9e1985db9844176462bd1d5863048c9f3d17404bbc6a648be9084b0c42b29347"
 },
 "nbformat": 4,
 "nbformat_minor": 4
}
